{
 "cells": [
  {
   "cell_type": "code",
   "execution_count": 37,
   "source": [
    "pip install lxml"
   ],
   "outputs": [
    {
     "output_type": "stream",
     "name": "stdout",
     "text": [
      "Requirement already satisfied: lxml in c:\\users\\admin\\anaconda3\\lib\\site-packages (4.6.3)\n",
      "Note: you may need to restart the kernel to use updated packages.\n"
     ]
    }
   ],
   "metadata": {}
  },
  {
   "cell_type": "code",
   "execution_count": 41,
   "source": [
    "from bs4 import BeautifulSoup\r\n",
    "import requests\r\n",
    "import re\r\n",
    "import json"
   ],
   "outputs": [],
   "metadata": {}
  },
  {
   "cell_type": "code",
   "execution_count": 2,
   "source": [
    "r=requests.get(\"https://pgw.srikrishna.ac.in/index.php/Welcome/Dashboard\",{\"rollnum\":\"20EUAI011\"})"
   ],
   "outputs": [],
   "metadata": {}
  },
  {
   "cell_type": "code",
   "execution_count": 7,
   "source": [
    "r.text"
   ],
   "outputs": [
    {
     "output_type": "execute_result",
     "data": {
      "text/plain": [
       "\"\\t<script>  location.href='https://www.srikrishna.ac.in';</script>\""
      ]
     },
     "metadata": {},
     "execution_count": 7
    }
   ],
   "metadata": {}
  },
  {
   "cell_type": "code",
   "execution_count": 38,
   "source": [
    "r=requests.post(\"https://pgw.srikrishna.ac.in/index.php/?key=tyut54yh56thtgh\",{\"RollNum\":\"20EUAI011\"})\r\n",
    "re.findall(\"20\",r.text)\r\n",
    "print(r.text)"
   ],
   "outputs": [
    {
     "output_type": "stream",
     "name": "stdout",
     "text": [
      "\t<!DOCTYPE html>\n",
      "<html>\n",
      "\n",
      "<head>\n",
      "  <meta charset=\"utf-8\">\n",
      "  <meta http-equiv=\"X-UA-Compatible\" content=\"IE=edge\">\n",
      "  <title>Login</title>\n",
      "  <!-- Tell the browser to be responsive to screen width -->\n",
      "  <meta name=\"viewport\" content=\"width=device-width, initial-scale=1\">\n",
      "\n",
      "  <!-- Font Awesome -->\n",
      "  <link rel=\"stylesheet\" href=\"https://pgw.srikrishna.ac.in/assets/Css/font_Awesomwe_all.min.css\">\n",
      "  <!-- Ionicons -->\n",
      "  <link rel=\"stylesheet\" href=\"https://code.ionicframework.com/ionicons/2.0.1/css/ionicons.min.css\">\n",
      "  <!-- Theme style -->\n",
      "\n",
      "  <link rel=\"stylesheet\" href=\"https://pgw.srikrishna.ac.in/assets/Css/adminlte.min.css\">\n",
      "  <!-- Google Font: Source Sans Pro -->\n",
      "  <link href=\"https://fonts.googleapis.com/css?family=Source+Sans+Pro:300,400,400i,700\" rel=\"stylesheet\">\n",
      "</head>\n",
      "\n",
      "<body class=\" container-fluid hold-transition lockscreen\">\n",
      "  <div class=\"row h-100 justify-content-center align-items-center\">\n",
      "  \n",
      "    <!--roll no -->\n",
      " <div class=\"col-md-6\">\n",
      " <!-- /.rollno -->\n",
      "      <div class=\"lockscreen-wrapper\">\n",
      "        <div class=\"lockscreen-logo\">\n",
      "          <a href=\"https://pgw.srikrishna.ac.in/index.php\">Payment Portal</a>\n",
      "        </div>\n",
      "        <!-- User name -->\n",
      "        <div class=\"lockscreen-name\">Roll Number</div>\n",
      "\n",
      "        <!-- START LOCK SCREEN ITEM -->\n",
      "        <div class=\"lockscreen-item\">\n",
      "          <!-- lockscreen image -->\n",
      "          <div class=\"lockscreen-image\">\n",
      "            <img src=\"https://pgw.srikrishna.ac.in/assets/Pics/man.png\" alt=\"User Image\">\n",
      "          </div>\n",
      "          <!-- /.lockscreen-image -->\n",
      "\n",
      "          <!-- lockscreen credentials (contains the form) -->\n",
      "          <form action=\"https://pgw.srikrishna.ac.in/index.php/Welcome/Dashboard\" method=\"POST\" class=\"lockscreen-credentials\">\n",
      "            <div class=\"input-group\">\n",
      "              <input type=\"text\" class=\"form-control\" required value=\"\" name=\"RollNo\" placeholder=\"Enter Your Roll Number\">\n",
      "              <div class=\"input-group-append\">\n",
      "                <button type=\"submit\" class=\"btn\"><i class=\"fas fa-arrow-right text-muted\"></i></button>\n",
      "              </div>\n",
      "            </div>\n",
      "\n",
      "          </form>\n",
      "          <!-- /.lockscreen credentials -->\n",
      "\n",
      "        </div>\n",
      "                <!-- /.lockscreen-item -->\n",
      "\n",
      "\n",
      "\n",
      "      </div>\n",
      "     \n",
      "    </div>\n",
      "    <div class=\"col-md-6 \">\n",
      "      <br/><br/>\n",
      "      <br/><br/>\n",
      "      <div class=\"card card-primary card-outline\">\n",
      "        <div class=\"card-header center-block\">\n",
      "          <h3 class=\"card-title\">&nbsp; <b> Payment Limits </b> </h3>\n",
      "        </div>\n",
      "        <div class=\"card-body\">\n",
      "          <table class=\"table  table-striped text-wrap\">\n",
      "            <tbody>\n",
      "              <tr>\n",
      "                <td>\n",
      "                  <b>#</b></td>\n",
      "                <td>\n",
      "                  <b>MODE</b></td>\n",
      "                <td>\n",
      "                  <b>LIMIT</b></td>\n",
      "                <td>\n",
      "                  <b>CHARGES</b></td>\n",
      "              </tr>\n",
      "              <tr>\n",
      "                <td>\n",
      "                  1</td>\n",
      "                <td>\n",
      "                  DEBIT CARD</td>\n",
      "                <td>\n",
      "                  AS PER CARD HOLDERS LIMIT IN THEIR BANK ACCOUNT</td>\n",
      "                <td>\n",
      "                  NIL</td>\n",
      "              </tr>\n",
      "              <tr>\n",
      "                <td>\n",
      "                  2</td>\n",
      "                <td>\n",
      "                  CREDIT CARD</td>\n",
      "                <td>\n",
      "                  AS PER THE LIMIT AVAILABLE ON CARD</td>\n",
      "                <td>\n",
      "                  1% (SURCHARGE)</td>\n",
      "              </tr>\n",
      "              <tr>\n",
      "                <td>\n",
      "                  3</td>\n",
      "                <td>\n",
      "                  UPI</td>\n",
      "                <td>\n",
      "                  1 LAKH PER DAY</td>\n",
      "                <td>\n",
      "                  NIL</td>\n",
      "              </tr>\n",
      "              <tr>\n",
      "                <td>\n",
      "                  4</td>\n",
      "                <td>\n",
      "                  NET BANKING</td>\n",
      "                <td>\n",
      "                  AS PER ACCOUNT HOLDERS LIMIT IN THEIR BANK ACCOUNT<br>\n",
      "                </td>\n",
      "                <td>\n",
      "                  NIL</td>\n",
      "              </tr>\n",
      "              <tr>\n",
      "                <td>\n",
      "                  5</td>\n",
      "                <td>\n",
      "                  RUPAY CARDS</td>\n",
      "                <td>\n",
      "                  AS PER CARD HOLDERS LIMIT IN THEIR BANK ACCOUNT<br>\n",
      "                </td>\n",
      "                <td>\n",
      "                  NIL</td>\n",
      "              </tr>\n",
      "            </tbody>\n",
      "          </table>\n",
      "        </div>\n",
      "      </div>\n",
      "    </div>\n",
      "  </div>\n",
      "\n",
      "\n",
      "\n",
      "\n",
      "  <!-- jQuery -->\n",
      "  <script src=\"https://pgw.srikrishna.ac.in/assets/Js/jquery.min.js\"></script>\n",
      "  <script src=\"https://pgw.srikrishna.ac.in/assets/Js/bootstrap.bundle.min.js\"></script>\n",
      "\n",
      "</body>\n",
      "\n",
      "</html>\n"
     ]
    }
   ],
   "metadata": {}
  },
  {
   "cell_type": "code",
   "execution_count": 39,
   "source": [
    "soup=BeautifulSoup(\"https://web.whatsapp.com/\",\"html.parser\")\r\n",
    "soup.text\r\n",
    "soup"
   ],
   "outputs": [
    {
     "output_type": "stream",
     "name": "stderr",
     "text": [
      "C:\\Users\\ADMIN\\anaconda3\\lib\\site-packages\\bs4\\__init__.py:417: MarkupResemblesLocatorWarning: \"https://web.whatsapp.com/\" looks like a URL. Beautiful Soup is not an HTTP client. You should probably use an HTTP client like requests to get the document behind the URL, and feed that document to Beautiful Soup.\n",
      "  warnings.warn(\n"
     ]
    },
    {
     "output_type": "execute_result",
     "data": {
      "text/plain": [
       "https://web.whatsapp.com/"
      ]
     },
     "metadata": {},
     "execution_count": 39
    }
   ],
   "metadata": {}
  },
  {
   "cell_type": "code",
   "execution_count": 42,
   "source": [
    "a = \"\"\"accept: text/html,application/xhtml+xml,application/xml;q=0.9,image/avif,image/webp,image/apng,/;q=0.8,application/signed-exchange;v=b3;q=0.9\r\n",
    "accept-encoding: gzip, deflate, br\r\n",
    "accept-language: en-US,en;q=0.9\r\n",
    "cache-control: no-cache\r\n",
    "content-length: 16\r\n",
    "content-type: application/x-www-form-urlencoded\r\n",
    "cookie: ci_session=se47t12c59aa51b2c4se5udqb3pjbjpn\r\n",
    "origin: https://pgw.srikrishna.ac.in/\r\n",
    "pragma: no-cache\r\n",
    "referer: https://pgw.srikrishna.ac.in/index.php/?key=tyut54yh56thtgh\r\n",
    "sec-ch-ua: \"Chromium\";v=\"92\", \" Not A;Brand\";v=\"99\", \"Google Chrome\";v=\"92\"\r\n",
    "sec-ch-ua-mobile: ?0\r\n",
    "sec-fetch-dest: document\r\n",
    "sec-fetch-mode: navigate\r\n",
    "sec-fetch-site: same-origin\r\n",
    "upgrade-insecure-requests: 1\r\n",
    "user-agent: Mozilla/5.0 (Windows NT 6.1; Win64; x64) AppleWebKit/537.36 (KHTML, like Gecko) Chrome/92.0.4515.131 Safari/537.36\"\"\"\r\n",
    "fin = {}\r\n",
    "for i in a.split(\"\\n\"):\r\n",
    "   tmp = i.split(\":\",1)\r\n",
    "   fin[tmp[0].strip()] = tmp[1].strip()\r\n",
    "dat=json.dumps(fin,indent=4)"
   ],
   "outputs": [],
   "metadata": {}
  },
  {
   "cell_type": "code",
   "execution_count": 43,
   "source": [],
   "outputs": [
    {
     "output_type": "execute_result",
     "data": {
      "text/plain": [
       "'{\\n    \"accept\": \"text/html,application/xhtml+xml,application/xml;q=0.9,image/avif,image/webp,image/apng,/;q=0.8,application/signed-exchange;v=b3;q=0.9\",\\n    \"accept-encoding\": \"gzip, deflate, br\",\\n    \"accept-language\": \"en-US,en;q=0.9\",\\n    \"cache-control\": \"no-cache\",\\n    \"content-length\": \"16\",\\n    \"content-type\": \"application/x-www-form-urlencoded\",\\n    \"cookie\": \"ci_session=se47t12c59aa51b2c4se5udqb3pjbjpn\",\\n    \"origin\": \"https://pgw.srikrishna.ac.in/\",\\n    \"pragma\": \"no-cache\",\\n    \"referer\": \"https://pgw.srikrishna.ac.in/index.php/?key=tyut54yh56thtgh\",\\n    \"sec-ch-ua\": \"\\\\\"Chromium\\\\\";v=\\\\\"92\\\\\", \\\\\" Not A;Brand\\\\\";v=\\\\\"99\\\\\", \\\\\"Google Chrome\\\\\";v=\\\\\"92\\\\\"\",\\n    \"sec-ch-ua-mobile\": \"?0\",\\n    \"sec-fetch-dest\": \"document\",\\n    \"sec-fetch-mode\": \"navigate\",\\n    \"sec-fetch-site\": \"same-origin\",\\n    \"upgrade-insecure-requests\": \"1\",\\n    \"user-agent\": \"Mozilla/5.0 (Windows NT 6.1; Win64; x64) AppleWebKit/537.36 (KHTML, like Gecko) Chrome/92.0.4515.131 Safari/537.36\"\\n}'"
      ]
     },
     "metadata": {},
     "execution_count": 43
    }
   ],
   "metadata": {}
  },
  {
   "cell_type": "code",
   "execution_count": null,
   "source": [],
   "outputs": [],
   "metadata": {}
  }
 ],
 "metadata": {
  "orig_nbformat": 4,
  "language_info": {
   "name": "python",
   "version": "3.8.8",
   "mimetype": "text/x-python",
   "codemirror_mode": {
    "name": "ipython",
    "version": 3
   },
   "pygments_lexer": "ipython3",
   "nbconvert_exporter": "python",
   "file_extension": ".py"
  },
  "kernelspec": {
   "name": "python3",
   "display_name": "Python 3.8.8 64-bit ('base': conda)"
  },
  "interpreter": {
   "hash": "95c10dbc6f7eccef0c1ace84822d618f7863d3bc26cab307fc0169bb43c23fbe"
  }
 },
 "nbformat": 4,
 "nbformat_minor": 2
}